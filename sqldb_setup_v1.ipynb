{
 "cells": [
  {
   "cell_type": "code",
   "execution_count": 1,
   "metadata": {},
   "outputs": [],
   "source": [
    "#IMPORTING NEEDED LIBRARIES AND APIs\n",
    "\n",
    "import json\n",
    "import pandas as pd\n",
    "import urllib3\n",
    "import re\n",
    "import gspread\n",
    "from facebook_business.api import FacebookAdsApi\n",
    "from facebook_business.adobjects.adaccount import AdAccount\n",
    "import requests\n",
    "from unidecode import unidecode\n",
    "from oauth2client.service_account import ServiceAccountCredentials\n",
    "from pprint import pprint\n",
    "from sklearn.preprocessing import OneHotEncoder\n",
    "from sklearn import preprocessing\n",
    "\n",
    "with open(r'./creds.json') as f:\n",
    "  data = json.load(f)"
   ]
  },
  {
   "cell_type": "code",
   "execution_count": 2,
   "metadata": {},
   "outputs": [],
   "source": [
    "#CONFIGURING GOOGLE SHEETS API\n",
    "scope = [\"https://spreadsheets.google.com/feeds\",'https://www.googleapis.com/auth/spreadsheets',\"https://www.googleapis.com/auth/drive.file\",\"https://www.googleapis.com/auth/drive\"]\n",
    "\n",
    "creds = ServiceAccountCredentials.from_json_keyfile_name('creds.json', scope)\n",
    "\n",
    "client = gspread.authorize(creds)\n",
    "\n",
    "sheet1 = client.open('sheets_database').worksheet('Sheet1')\n",
    "data_1 = sheet1.get_all_records()\n",
    "data_1x = pd.DataFrame(data_1)"
   ]
  },
  {
   "cell_type": "code",
   "execution_count": 2,
   "metadata": {},
   "outputs": [],
   "source": [
    "#CONFIGURING FB BUSINESS API\n",
    "my_app_id = 'xxx'\n",
    "my_app_secret = 'xxx'\n",
    "my_access_token = 'xxx'\n",
    "FacebookAdsApi.init(my_app_id, my_app_secret, my_access_token)\n",
    "my_account = AdAccount('xxx')\n",
    "ads = my_account.get_ads()"
   ]
  },
  {
   "cell_type": "code",
   "execution_count": 4,
   "metadata": {},
   "outputs": [],
   "source": [
    "#SETTING FB QUERY FOR DF\n",
    "fields = [ 'ad_name', 'spend', 'impressions', 'inline_link_clicks']\n",
    "params = { 'level': 'ad', 'filtering': [], 'breakdowns': ['region'], 'time_increment':'1', 'time_range': {'since':'2020-06-29','until':'2020-07-05'}, } \n",
    "query_fb = pd.DataFrame(my_account.get_insights(fields=fields, params=params))"
   ]
  },
  {
   "cell_type": "code",
   "execution_count": 5,
   "metadata": {},
   "outputs": [],
   "source": [
    "#REPLACING AND NORMALIZING VALUES IN FB DB\n",
    "ss = query_fb['region'].str.replace(\"(\", '')\n",
    "ss2 = ss.str.replace(')', '')\n",
    "ss3 = ss2.str.replace(' state', '')\n",
    "ss3_df = pd.DataFrame(ss3)\n",
    "res = ss3_df['region'].str.normalize('NFKD')\\\n",
    "       .str.encode('ascii', errors='ignore')\\\n",
    "       .str.decode('utf-8')\n",
    "ss_fb = pd.DataFrame(res)\n",
    "query_fb['region'] = ss_fb"
   ]
  },
  {
   "cell_type": "code",
   "execution_count": 88,
   "metadata": {},
   "outputs": [],
   "source": [
    "#IMPORTING ALL NEEDED TABLES\n",
    "db_inapp = pd.read_excel(r'xxx')\n",
    "db_pedidos = pd.read_excel(r'xxx')\n",
    "db_install = pd.read_excel(r'xxx', sheet_name='dbase')\n",
    "db_fb = query_fb\n",
    "db_gads = data_1x\n",
    "db_vtrack = pd.read_excel('xxx', sheet_name='dbase')\n",
    "db_atribuicao = pd.read_excel('xxx', sheet_name='dbase')\n",
    "db_teste = pd.read_excel('xxx')"
   ]
  },
  {
   "cell_type": "code",
   "execution_count": null,
   "metadata": {},
   "outputs": [],
   "source": [
    "#RENAMING AND CORRECTING DB INTEGER GLITCH\n",
    "db_teste = db_teste.rename(columns={\"Cidade (local geográfico)\": \"Cidade\"})\n",
    "db_pedidos['Complemento'] = 1\n",
    "db_install.rename(columns={'Hora Install': 'Hora'})"
   ]
  },
  {
   "cell_type": "code",
   "execution_count": 90,
   "metadata": {},
   "outputs": [],
   "source": [
    "#NORMALIZING REGIONAL PARAMETERS\n",
    "ss = db_fb['region'].str.replace(\"(\", '')\n",
    "ss2 = ss.str.replace(')', '')\n",
    "ss3 = ss2.str.replace(' state', '')\n",
    "ss3_df = pd.DataFrame(ss3)\n",
    "res = ss3_df['region'].str.normalize('NFKD')\\\n",
    "       .str.encode('ascii', errors='ignore')\\\n",
    "       .str.decode('utf-8')\n",
    "ss_fb = pd.DataFrame(res)\n",
    "db_fb['region'] = ss_fb"
   ]
  },
  {
   "cell_type": "code",
   "execution_count": 91,
   "metadata": {},
   "outputs": [],
   "source": [
    "#2\n",
    "res_ped = db_pedidos['Cidade'].str.normalize('NFKD')\\\n",
    "       .str.encode('ascii', errors='ignore')\\\n",
    "       .str.decode('utf-8')\n",
    "ss_pedidos = pd.DataFrame(res_ped)\n",
    "db_pedidos['Cidade'] = ss_pedidos"
   ]
  },
  {
   "cell_type": "code",
   "execution_count": 92,
   "metadata": {},
   "outputs": [],
   "source": [
    "#3\n",
    "res_teste = db_teste['Cidade'].str.normalize('NFKD')\\\n",
    "       .str.encode('ascii', errors='ignore')\\\n",
    "       .str.decode('utf-8')\n",
    "ss_teste = pd.DataFrame(res_teste)\n",
    "db_teste['Cidade'] = ss_teste"
   ]
  },
  {
   "cell_type": "code",
   "execution_count": 93,
   "metadata": {},
   "outputs": [],
   "source": [
    "#USING OHE TO TRANSFORM CATEGORICAL INTO NUMERICAL FEATURES\n",
    "X = db_inapp.iloc[:,2].values\n",
    "re = OneHotEncoder()\n",
    "jaxle = X.reshape(-1, 1)\n",
    "jaxre = re.fit_transform(jaxle).toarray()\n",
    "bobby = pd.DataFrame(jaxre)\n",
    "bobby.columns = re.get_feature_names()"
   ]
  },
  {
   "cell_type": "code",
   "execution_count": 94,
   "metadata": {},
   "outputs": [],
   "source": [
    "#CORRECTING COLUMN NAMES\n",
    "def drop_prefix(self, prefix):\n",
    "    self.columns = self.columns.str.lstrip(prefix)\n",
    "    return bobby\n",
    "\n",
    "drop_prefix(bobby, 'x0_')\n",
    "\n",
    "bobby = bobby.fillna(0)"
   ]
  },
  {
   "cell_type": "code",
   "execution_count": 95,
   "metadata": {},
   "outputs": [],
   "source": [
    "#IMPUTING NEW COLUMNS TO DF\n",
    "db_inapp['column1'] = bobby['column1']\n",
    "db_inapp['column2'] = bobby['column2']\n",
    "db_inapp['column3'] = bobby['column3']\n",
    "db_inapp['column4'] = bobby['column4']\n",
    "db_inapp['column5'] = bobby['column5']"
   ]
  },
  {
   "cell_type": "code",
   "execution_count": 112,
   "metadata": {},
   "outputs": [],
   "source": [
    "#CREATING NEW DF ONLY WITH UNIQUE VALUES FROM COLUMN\n",
    "db_inapp_unique = db_inapp.groupby('col_id').head(1)"
   ]
  },
  {
   "cell_type": "code",
   "execution_count": 107,
   "metadata": {},
   "outputs": [],
   "source": [
    "#IMPORTING SQLITE AND CREATING DB TABLES\n",
    "import sqlite3\n",
    "\n",
    "dbfile = sqlite3.connect(r'C:\\db.db')\n",
    "cur = dbfile.cursor()\n",
    "\n",
    "cur.execute(\"CREATE TABLE 'Jornada_App' ('Data Event', 'Event Name', 'Evento', 'Data Install', 'Media Source', 'Channel', 'Campaign', 'City', 'State', 'Postal Code', 'AppsFlyer ID', 'Platform', 'Origem', 'Clique', 'Adicionou ao carrinho', 'Cadastro', 'Formas de Pagamento', 'Pedido');\")\n",
    "cur.execute(\"CREATE TABLE 'Pedidos App' ('Pesquisa', 'Pedido', 'Cliente', 'Telefone', 'ID do Cliente', 'E-mail', 'Data', 'Data Ajustada', 'Hora', 'CNPJ', 'Revenda', 'Endereço', 'Nº', 'Complemento', 'Bairro', 'Referência', 'CEP', 'Cidade', 'UF', 'Canal Hub', 'Origem Acesso', 'Modo', 'Status', 'Data de Entrega', 'Produto', 'Preço', 'Quantidade', 'Vasilhame', 'Preço Vasilhame', 'Forma Pagto', 'Valor Pedido', 'Origem do Cliente', 'Mídia');\")\n",
    "cur.execute(\"CREATE TABLE Instalações ('Data Install', 'Hora Install', Midia, Channel, Campanha, Cidade, Estado, CEP, ID, Instalação, Platform, 'Device Type', Hora);\")\n",
    "cur.execute(\"CREATE TABLE FB ('ad_name', 'date_start', 'date_stop', 'impressions','inline_link_clicks', 'spend');\")\n",
    "cur.execute(\"CREATE TABLE 'Google Ads' ('Date', 'City', 'Campaign name', 'Ad group name', 'Impressions', 'Clicks', 'Cost', 'Conversions');\")\n",
    "cur.execute(\"CREATE TABLE 'Video Track' (Data, Secundagem, Programa, 'Hora da Inserção', Mercado, Veículo, Inserção, Categoria, Atribuição, Investimento);\")\n",
    "cur.execute(\"CREATE TABLE 'Atribuição' ('Data', 'Secundagem', 'Programa', 'Hora da Inserção', 'Cidade','Emissora', 'Janela Atribuição', 'Pedidos Atribuídos', 'Instalações Atribuídas', 'Investimento');\")\n",
    "cur.execute(\"CREATE TABLE 'GAds Provisoria' ('Data', 'Grupo de anúncios', 'Cidade', 'Moeda', 'Cliques', 'Impressões','Custo');\")\n",
    "cur.execute(\"CREATE TABLE 'Jornada_App_Unique' ('Data Event', 'Event Name', 'Evento', 'Data Install', 'Media Source', 'Channel', 'Campaign', 'City', 'State', 'Postal Code', 'AppsFlyer ID', 'Platform', 'Origem', 'Clique', 'Adicionou ao carrinho', 'Cadastro', 'Formas de Pagamento', 'Pedido');\")\n",
    "\n",
    "\n",
    "dbfile.commit()"
   ]
  },
  {
   "cell_type": "code",
   "execution_count": 108,
   "metadata": {},
   "outputs": [],
   "source": [
    "#DEFINING TABLE NAMES AND APPEND FUNCTION\n",
    "table_name1 = 'db1'\n",
    "table_name2 = 'db2'\n",
    "table_name3 = 'db3'\n",
    "table_name4 = 'db4'\n",
    "table_name5 = 'db5'\n",
    "table_name6 = 'db6'\n",
    "table_name7 = 'db7'\n",
    "table_name8 = 'db8'\n",
    "table_name9 = 'db9'\n",
    "\n",
    "\n",
    "def append_tables(): \n",
    "    \n",
    "    db_inapp.to_sql(table_name1, dbfile, if_exists='append', index=False),\n",
    "    db_pedidos.to_sql(table_name2, dbfile, if_exists='append', index=False, chunksize=1000),\n",
    "    db_install.to_sql(table_name3, dbfile, if_exists='append', index=False),\n",
    "    db_fb.to_sql(table_name4, dbfile, if_exists='append', index=False),\n",
    "    db_gads.to_sql(table_name5, dbfile, if_exists='append', index=False),\n",
    "    db_vtrack.to_sql(table_name6, dbfile, if_exists='append', index=False),\n",
    "    db_atribuicao.to_sql(table_name7, dbfile, if_exists='append', index=False),\n",
    "    db_teste.to_sql(table_name8, dbfile, if_exists='append', index=False)\n",
    "    db_inapp_unique.to_sql(table_name9, dbfile, if_exists='append', index=False)"
   ]
  },
  {
   "cell_type": "code",
   "execution_count": 109,
   "metadata": {},
   "outputs": [],
   "source": [
    "#DEFINING FUNCTION TO DELETE NULL ROWS\n",
    "def delete_nulls():\n",
    "                    \n",
    "    cur.execute(\"DELETE FROM db1 WHERE db1.Data='';\"),\n",
    "    cur.execute(\"DELETE FROM db2 WHERE db2.Data='';\"),\n",
    "    cur.execute(\"DELETE FROM db3 WHERE db3.Data='';\"),\n",
    "    cur.execute(\"DELETE FROM db4 WHERE db4.Data='';\"),\n",
    "    cur.execute(\"DELETE FROM db5 WHERE db5.Data='';\"),\n",
    "    cur.execute(\"DELETE FROM db6 WHERE db6.Data='';\"),\n",
    "    cur.execute(\"DELETE FROM db7 WHERE db7.Data='';\")\n",
    "    cur.execute(\"DELETE FROM db8 WHERE db8.Data='';\")\n",
    "    cur.execute(\"DELETE FROM db9 WHERE db9.Data='';\")\n",
    "    dbfile.commit()"
   ]
  },
  {
   "cell_type": "code",
   "execution_count": 110,
   "metadata": {},
   "outputs": [],
   "source": [
    "#DEFINING FUNCTION TO CORRECT FLOAT READING\n",
    "def bases_commas():\n",
    "    \n",
    "    cur.execute(\"\"\"\n",
    "    UPDATE \n",
    "        db5\n",
    "    SET\n",
    "        spend = REPLACE(spend, '.',',')\n",
    "    WHERE\n",
    "        spend IS NOT NULL\"\"\")\n",
    "    \n",
    "    cur.execute(\"\"\"\n",
    "    UPDATE \n",
    "        db6\n",
    "    SET\n",
    "        Preço = REPLACE(Preço, '.',',')\n",
    "    WHERE\n",
    "        Preço IS NOT NULL;\"\"\")"
   ]
  },
  {
   "cell_type": "code",
   "execution_count": 111,
   "metadata": {},
   "outputs": [],
   "source": [
    "#EXECUTING FUNCTIONS ALTOGHETER\n",
    "bases_commas()\n",
    "append_tables()\n",
    "delete_nulls()"
   ]
  },
  {
   "cell_type": "code",
   "execution_count": 21,
   "metadata": {},
   "outputs": [
    {
     "name": "stderr",
     "output_type": "stream",
     "text": [
      "[NbConvertApp] Converting notebook ultragaz_sqlSheets_setup.ipynb to script\n",
      "[NbConvertApp] Writing 4316 bytes to ultragaz_sqlSheets_setup.py\n"
     ]
    }
   ],
   "source": [
    "#TRANSFORMING PYTHON NOTEBOOK INTO .PY SCRIPT\n",
    "!jupyter nbconvert --to script sqldb_setup_v1.ipynb"
   ]
  },
  {
   "cell_type": "code",
   "execution_count": null,
   "metadata": {},
   "outputs": [],
   "source": []
  }
 ],
 "metadata": {
  "kernelspec": {
   "display_name": "Python 3",
   "language": "python",
   "name": "python3"
  },
  "language_info": {
   "codemirror_mode": {
    "name": "ipython",
    "version": 3
   },
   "file_extension": ".py",
   "mimetype": "text/x-python",
   "name": "python",
   "nbconvert_exporter": "python",
   "pygments_lexer": "ipython3",
   "version": "3.7.4"
  }
 },
 "nbformat": 4,
 "nbformat_minor": 2
}
