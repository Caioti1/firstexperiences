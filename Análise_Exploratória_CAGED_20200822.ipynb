{
 "cells": [
  {
   "cell_type": "code",
   "execution_count": 0,
   "metadata": {
    "colab": {},
    "colab_type": "code",
    "id": "BgEjviw6DtoT"
   },
   "outputs": [],
   "source": [
    "import pandas as pd\n",
    "import numpy as np\n",
    "import scipy as scp\n",
    "import seaborn as sns \n",
    "import matplotlib.pyplot as plt\n",
    "from pydrive.drive import GoogleDrive\n",
    "!pip install -U -q PyDrive\n",
    "from pydrive.auth import GoogleAuth\n",
    "from pydrive.drive import GoogleDrive\n",
    "from google.colab import auth\n",
    "from oauth2client.client import GoogleCredentials\n",
    "auth.authenticate_user()\n",
    "gauth = GoogleAuth()\n",
    "gauth.credentials = GoogleCredentials.get_application_default()\n",
    "drive = GoogleDrive(gauth)"
   ]
  },
  {
   "cell_type": "markdown",
   "metadata": {
    "colab_type": "text",
    "id": "_m2zuV82fU6f"
   },
   "source": []
  },
  {
   "cell_type": "code",
   "execution_count": 0,
   "metadata": {
    "colab": {},
    "colab_type": "code",
    "id": "7S3GbMRCuOZy"
   },
   "outputs": [],
   "source": [
    "link = 'https://drive.google.com/open?id=1UhOoyOL4Tl7lzDwfm7W1lnTZxVTJObes'"
   ]
  },
  {
   "cell_type": "code",
   "execution_count": 5,
   "metadata": {
    "colab": {
     "base_uri": "https://localhost:8080/",
     "height": 34
    },
    "colab_type": "code",
    "id": "jfjAAPjSupXM",
    "outputId": "63bc7c69-5e11-4763-802d-1250e25b574f"
   },
   "outputs": [
    {
     "name": "stdout",
     "output_type": "stream",
     "text": [
      "1UhOoyOL4Tl7lzDwfm7W1lnTZxVTJObes\n"
     ]
    }
   ],
   "source": [
    "fluff, id = link.split('=')\n",
    "print (id)"
   ]
  },
  {
   "cell_type": "code",
   "execution_count": 0,
   "metadata": {
    "colab": {},
    "colab_type": "code",
    "id": "yQKxzH2FvvDt"
   },
   "outputs": [],
   "source": [
    "downloaded = drive.CreateFile({'id': '1UhOoyOL4Tl7lzDwfm7W1lnTZxVTJObes'}) \n",
    "downloaded.GetContentFile('CAGEDEST122018.csv')  \n",
    "df = pd.read_csv('CAGEDEST122018.csv', sep = ';', encoding = 'latin-1', low_memory=False)"
   ]
  },
  {
   "cell_type": "code",
   "execution_count": 7,
   "metadata": {
    "colab": {
     "base_uri": "https://localhost:8080/",
     "height": 275
    },
    "colab_type": "code",
    "id": "oieSKWyPwA8E",
    "outputId": "bbb4fa2b-2342-47f0-cad3-f863a9e156d2"
   },
   "outputs": [
    {
     "data": {
      "text/html": [
       "<div>\n",
       "<style scoped>\n",
       "    .dataframe tbody tr th:only-of-type {\n",
       "        vertical-align: middle;\n",
       "    }\n",
       "\n",
       "    .dataframe tbody tr th {\n",
       "        vertical-align: top;\n",
       "    }\n",
       "\n",
       "    .dataframe thead th {\n",
       "        text-align: right;\n",
       "    }\n",
       "</style>\n",
       "<table border=\"1\" class=\"dataframe\">\n",
       "  <thead>\n",
       "    <tr style=\"text-align: right;\">\n",
       "      <th></th>\n",
       "      <th>Admitidos/Desligados</th>\n",
       "      <th>Competência Declarada</th>\n",
       "      <th>Município</th>\n",
       "      <th>Ano Declarado</th>\n",
       "      <th>CBO 2002 Ocupação</th>\n",
       "      <th>CNAE 1.0 Classe</th>\n",
       "      <th>CNAE 2.0 Classe</th>\n",
       "      <th>CNAE 2.0 Subclas</th>\n",
       "      <th>Faixa Empr Início Jan</th>\n",
       "      <th>Grau Instrução</th>\n",
       "      <th>Qtd Hora Contrat</th>\n",
       "      <th>IBGE Subsetor</th>\n",
       "      <th>Idade</th>\n",
       "      <th>Ind Aprendiz</th>\n",
       "      <th>Ind Portador Defic</th>\n",
       "      <th>Raça Cor</th>\n",
       "      <th>Salário Mensal</th>\n",
       "      <th>Saldo Mov</th>\n",
       "      <th>Sexo</th>\n",
       "      <th>Tempo Emprego</th>\n",
       "      <th>Tipo Estab</th>\n",
       "      <th>Tipo Defic</th>\n",
       "      <th>Tipo Mov Desagregado</th>\n",
       "      <th>UF</th>\n",
       "      <th>Bairros SP</th>\n",
       "      <th>Bairros Fortaleza</th>\n",
       "      <th>Bairros RJ</th>\n",
       "      <th>Distritos SP</th>\n",
       "      <th>Regiões Adm DF</th>\n",
       "      <th>Mesorregião</th>\n",
       "      <th>Microrregião</th>\n",
       "      <th>Região Adm RJ</th>\n",
       "      <th>Região Adm SP</th>\n",
       "      <th>Região Corede</th>\n",
       "      <th>Região Corede 04</th>\n",
       "      <th>Região Gov SP</th>\n",
       "      <th>Região Senac PR</th>\n",
       "      <th>Região Senai PR</th>\n",
       "      <th>Região Senai SP</th>\n",
       "      <th>Sub-Região Senai PR</th>\n",
       "      <th>Ind Trab Parcial</th>\n",
       "      <th>Ind Trab Intermitente</th>\n",
       "    </tr>\n",
       "  </thead>\n",
       "  <tbody>\n",
       "    <tr>\n",
       "      <th>0</th>\n",
       "      <td>1</td>\n",
       "      <td>201812</td>\n",
       "      <td>500215</td>\n",
       "      <td>2018</td>\n",
       "      <td>711210</td>\n",
       "      <td>1619</td>\n",
       "      <td>1610</td>\n",
       "      <td>161003</td>\n",
       "      <td>1</td>\n",
       "      <td>6</td>\n",
       "      <td>40</td>\n",
       "      <td>25</td>\n",
       "      <td>24</td>\n",
       "      <td>0</td>\n",
       "      <td>0</td>\n",
       "      <td>8</td>\n",
       "      <td>000954,00</td>\n",
       "      <td>1</td>\n",
       "      <td>1</td>\n",
       "      <td>0000,0</td>\n",
       "      <td>1</td>\n",
       "      <td>0</td>\n",
       "      <td>1</td>\n",
       "      <td>50</td>\n",
       "      <td>{ñ c</td>\n",
       "      <td>{ñ c</td>\n",
       "      <td>{ñ c</td>\n",
       "      <td>{ñ c</td>\n",
       "      <td>0</td>\n",
       "      <td>5004</td>\n",
       "      <td>50009</td>\n",
       "      <td>{ñ</td>\n",
       "      <td>999</td>\n",
       "      <td>{ñ</td>\n",
       "      <td>99</td>\n",
       "      <td>999</td>\n",
       "      <td>99</td>\n",
       "      <td>{ñ</td>\n",
       "      <td>999</td>\n",
       "      <td>99</td>\n",
       "      <td>0</td>\n",
       "      <td>0</td>\n",
       "    </tr>\n",
       "    <tr>\n",
       "      <th>1</th>\n",
       "      <td>1</td>\n",
       "      <td>201812</td>\n",
       "      <td>500710</td>\n",
       "      <td>2018</td>\n",
       "      <td>321210</td>\n",
       "      <td>2119</td>\n",
       "      <td>2101</td>\n",
       "      <td>210101</td>\n",
       "      <td>1</td>\n",
       "      <td>8</td>\n",
       "      <td>44</td>\n",
       "      <td>25</td>\n",
       "      <td>25</td>\n",
       "      <td>0</td>\n",
       "      <td>0</td>\n",
       "      <td>2</td>\n",
       "      <td>002500,00</td>\n",
       "      <td>1</td>\n",
       "      <td>1</td>\n",
       "      <td>0000,0</td>\n",
       "      <td>1</td>\n",
       "      <td>0</td>\n",
       "      <td>1</td>\n",
       "      <td>50</td>\n",
       "      <td>{ñ c</td>\n",
       "      <td>{ñ c</td>\n",
       "      <td>{ñ c</td>\n",
       "      <td>{ñ c</td>\n",
       "      <td>0</td>\n",
       "      <td>5003</td>\n",
       "      <td>50007</td>\n",
       "      <td>{ñ</td>\n",
       "      <td>999</td>\n",
       "      <td>{ñ</td>\n",
       "      <td>99</td>\n",
       "      <td>999</td>\n",
       "      <td>99</td>\n",
       "      <td>{ñ</td>\n",
       "      <td>999</td>\n",
       "      <td>99</td>\n",
       "      <td>0</td>\n",
       "      <td>0</td>\n",
       "    </tr>\n",
       "    <tr>\n",
       "      <th>2</th>\n",
       "      <td>1</td>\n",
       "      <td>201812</td>\n",
       "      <td>500460</td>\n",
       "      <td>2018</td>\n",
       "      <td>623110</td>\n",
       "      <td>1619</td>\n",
       "      <td>1610</td>\n",
       "      <td>161003</td>\n",
       "      <td>1</td>\n",
       "      <td>2</td>\n",
       "      <td>1</td>\n",
       "      <td>25</td>\n",
       "      <td>55</td>\n",
       "      <td>0</td>\n",
       "      <td>0</td>\n",
       "      <td>8</td>\n",
       "      <td>000000,00</td>\n",
       "      <td>1</td>\n",
       "      <td>1</td>\n",
       "      <td>0000,0</td>\n",
       "      <td>1</td>\n",
       "      <td>0</td>\n",
       "      <td>1</td>\n",
       "      <td>50</td>\n",
       "      <td>{ñ c</td>\n",
       "      <td>{ñ c</td>\n",
       "      <td>{ñ c</td>\n",
       "      <td>{ñ c</td>\n",
       "      <td>0</td>\n",
       "      <td>5004</td>\n",
       "      <td>50011</td>\n",
       "      <td>{ñ</td>\n",
       "      <td>999</td>\n",
       "      <td>{ñ</td>\n",
       "      <td>99</td>\n",
       "      <td>999</td>\n",
       "      <td>99</td>\n",
       "      <td>{ñ</td>\n",
       "      <td>999</td>\n",
       "      <td>99</td>\n",
       "      <td>0</td>\n",
       "      <td>1</td>\n",
       "    </tr>\n",
       "    <tr>\n",
       "      <th>3</th>\n",
       "      <td>1</td>\n",
       "      <td>201812</td>\n",
       "      <td>500460</td>\n",
       "      <td>2018</td>\n",
       "      <td>623110</td>\n",
       "      <td>1619</td>\n",
       "      <td>1610</td>\n",
       "      <td>161003</td>\n",
       "      <td>1</td>\n",
       "      <td>2</td>\n",
       "      <td>1</td>\n",
       "      <td>25</td>\n",
       "      <td>52</td>\n",
       "      <td>0</td>\n",
       "      <td>0</td>\n",
       "      <td>8</td>\n",
       "      <td>000000,00</td>\n",
       "      <td>1</td>\n",
       "      <td>1</td>\n",
       "      <td>0000,0</td>\n",
       "      <td>1</td>\n",
       "      <td>0</td>\n",
       "      <td>1</td>\n",
       "      <td>50</td>\n",
       "      <td>{ñ c</td>\n",
       "      <td>{ñ c</td>\n",
       "      <td>{ñ c</td>\n",
       "      <td>{ñ c</td>\n",
       "      <td>0</td>\n",
       "      <td>5004</td>\n",
       "      <td>50011</td>\n",
       "      <td>{ñ</td>\n",
       "      <td>999</td>\n",
       "      <td>{ñ</td>\n",
       "      <td>99</td>\n",
       "      <td>999</td>\n",
       "      <td>99</td>\n",
       "      <td>{ñ</td>\n",
       "      <td>999</td>\n",
       "      <td>99</td>\n",
       "      <td>0</td>\n",
       "      <td>1</td>\n",
       "    </tr>\n",
       "    <tr>\n",
       "      <th>4</th>\n",
       "      <td>1</td>\n",
       "      <td>201812</td>\n",
       "      <td>500460</td>\n",
       "      <td>2018</td>\n",
       "      <td>623110</td>\n",
       "      <td>1619</td>\n",
       "      <td>1610</td>\n",
       "      <td>161003</td>\n",
       "      <td>1</td>\n",
       "      <td>2</td>\n",
       "      <td>1</td>\n",
       "      <td>25</td>\n",
       "      <td>32</td>\n",
       "      <td>0</td>\n",
       "      <td>0</td>\n",
       "      <td>8</td>\n",
       "      <td>000000,00</td>\n",
       "      <td>1</td>\n",
       "      <td>1</td>\n",
       "      <td>0000,0</td>\n",
       "      <td>1</td>\n",
       "      <td>0</td>\n",
       "      <td>1</td>\n",
       "      <td>50</td>\n",
       "      <td>{ñ c</td>\n",
       "      <td>{ñ c</td>\n",
       "      <td>{ñ c</td>\n",
       "      <td>{ñ c</td>\n",
       "      <td>0</td>\n",
       "      <td>5004</td>\n",
       "      <td>50011</td>\n",
       "      <td>{ñ</td>\n",
       "      <td>999</td>\n",
       "      <td>{ñ</td>\n",
       "      <td>99</td>\n",
       "      <td>999</td>\n",
       "      <td>99</td>\n",
       "      <td>{ñ</td>\n",
       "      <td>999</td>\n",
       "      <td>99</td>\n",
       "      <td>0</td>\n",
       "      <td>1</td>\n",
       "    </tr>\n",
       "  </tbody>\n",
       "</table>\n",
       "</div>"
      ],
      "text/plain": [
       "   Admitidos/Desligados  ...  Ind Trab Intermitente\n",
       "0                     1  ...                      0\n",
       "1                     1  ...                      0\n",
       "2                     1  ...                      1\n",
       "3                     1  ...                      1\n",
       "4                     1  ...                      1\n",
       "\n",
       "[5 rows x 42 columns]"
      ]
     },
     "execution_count": 7,
     "metadata": {
      "tags": []
     },
     "output_type": "execute_result"
    }
   ],
   "source": [
    "df.head()"
   ]
  },
  {
   "cell_type": "code",
   "execution_count": 0,
   "metadata": {
    "colab": {},
    "colab_type": "code",
    "id": "JRNV8QaGxMIf"
   },
   "outputs": [],
   "source": [
    "df['Salário Mensal'] = df['Salário Mensal'].astype(str)\n",
    "df['Salário Mensal'] = df['Salário Mensal'].str.replace(',','.').astype(float)+1"
   ]
  },
  {
   "cell_type": "code",
   "execution_count": 9,
   "metadata": {
    "colab": {
     "base_uri": "https://localhost:8080/",
     "height": 119
    },
    "colab_type": "code",
    "id": "soB4Z_T8xbQ8",
    "outputId": "506514b1-524c-414b-9f45-7225a30bc6ba"
   },
   "outputs": [
    {
     "data": {
      "text/plain": [
       "0     955.0\n",
       "1    2501.0\n",
       "2       1.0\n",
       "3       1.0\n",
       "4       1.0\n",
       "Name: Salário Mensal, dtype: float64"
      ]
     },
     "execution_count": 9,
     "metadata": {
      "tags": []
     },
     "output_type": "execute_result"
    }
   ],
   "source": [
    "df['Salário Mensal'].head()"
   ]
  },
  {
   "cell_type": "code",
   "execution_count": 10,
   "metadata": {
    "colab": {
     "base_uri": "https://localhost:8080/",
     "height": 419
    },
    "colab_type": "code",
    "id": "Ocogi0Vcxdzq",
    "outputId": "6e270361-986e-4784-abf0-0ac2f346591e"
   },
   "outputs": [
    {
     "data": {
      "text/html": [
       "<div>\n",
       "<style scoped>\n",
       "    .dataframe tbody tr th:only-of-type {\n",
       "        vertical-align: middle;\n",
       "    }\n",
       "\n",
       "    .dataframe tbody tr th {\n",
       "        vertical-align: top;\n",
       "    }\n",
       "\n",
       "    .dataframe thead th {\n",
       "        text-align: right;\n",
       "    }\n",
       "</style>\n",
       "<table border=\"1\" class=\"dataframe\">\n",
       "  <thead>\n",
       "    <tr style=\"text-align: right;\">\n",
       "      <th></th>\n",
       "      <th>Salário Mensal</th>\n",
       "      <th>Idade</th>\n",
       "      <th>Raça Cor</th>\n",
       "      <th>Sexo</th>\n",
       "      <th>Grau Instrução</th>\n",
       "    </tr>\n",
       "  </thead>\n",
       "  <tbody>\n",
       "    <tr>\n",
       "      <th>0</th>\n",
       "      <td>955.0</td>\n",
       "      <td>24</td>\n",
       "      <td>8</td>\n",
       "      <td>1</td>\n",
       "      <td>6</td>\n",
       "    </tr>\n",
       "    <tr>\n",
       "      <th>1</th>\n",
       "      <td>2501.0</td>\n",
       "      <td>25</td>\n",
       "      <td>2</td>\n",
       "      <td>1</td>\n",
       "      <td>8</td>\n",
       "    </tr>\n",
       "    <tr>\n",
       "      <th>2</th>\n",
       "      <td>1.0</td>\n",
       "      <td>55</td>\n",
       "      <td>8</td>\n",
       "      <td>1</td>\n",
       "      <td>2</td>\n",
       "    </tr>\n",
       "    <tr>\n",
       "      <th>3</th>\n",
       "      <td>1.0</td>\n",
       "      <td>52</td>\n",
       "      <td>8</td>\n",
       "      <td>1</td>\n",
       "      <td>2</td>\n",
       "    </tr>\n",
       "    <tr>\n",
       "      <th>4</th>\n",
       "      <td>1.0</td>\n",
       "      <td>32</td>\n",
       "      <td>8</td>\n",
       "      <td>1</td>\n",
       "      <td>2</td>\n",
       "    </tr>\n",
       "    <tr>\n",
       "      <th>...</th>\n",
       "      <td>...</td>\n",
       "      <td>...</td>\n",
       "      <td>...</td>\n",
       "      <td>...</td>\n",
       "      <td>...</td>\n",
       "    </tr>\n",
       "    <tr>\n",
       "      <th>2256747</th>\n",
       "      <td>5511.0</td>\n",
       "      <td>59</td>\n",
       "      <td>8</td>\n",
       "      <td>2</td>\n",
       "      <td>9</td>\n",
       "    </tr>\n",
       "    <tr>\n",
       "      <th>2256748</th>\n",
       "      <td>955.0</td>\n",
       "      <td>55</td>\n",
       "      <td>9</td>\n",
       "      <td>2</td>\n",
       "      <td>7</td>\n",
       "    </tr>\n",
       "    <tr>\n",
       "      <th>2256749</th>\n",
       "      <td>1001.0</td>\n",
       "      <td>61</td>\n",
       "      <td>8</td>\n",
       "      <td>2</td>\n",
       "      <td>7</td>\n",
       "    </tr>\n",
       "    <tr>\n",
       "      <th>2256750</th>\n",
       "      <td>1366.0</td>\n",
       "      <td>22</td>\n",
       "      <td>2</td>\n",
       "      <td>1</td>\n",
       "      <td>8</td>\n",
       "    </tr>\n",
       "    <tr>\n",
       "      <th>2256751</th>\n",
       "      <td>997.0</td>\n",
       "      <td>27</td>\n",
       "      <td>2</td>\n",
       "      <td>2</td>\n",
       "      <td>9</td>\n",
       "    </tr>\n",
       "  </tbody>\n",
       "</table>\n",
       "<p>2256752 rows × 5 columns</p>\n",
       "</div>"
      ],
      "text/plain": [
       "         Salário Mensal  Idade  Raça Cor  Sexo  Grau Instrução\n",
       "0                 955.0     24         8     1               6\n",
       "1                2501.0     25         2     1               8\n",
       "2                   1.0     55         8     1               2\n",
       "3                   1.0     52         8     1               2\n",
       "4                   1.0     32         8     1               2\n",
       "...                 ...    ...       ...   ...             ...\n",
       "2256747          5511.0     59         8     2               9\n",
       "2256748           955.0     55         9     2               7\n",
       "2256749          1001.0     61         8     2               7\n",
       "2256750          1366.0     22         2     1               8\n",
       "2256751           997.0     27         2     2               9\n",
       "\n",
       "[2256752 rows x 5 columns]"
      ]
     },
     "execution_count": 10,
     "metadata": {
      "tags": []
     },
     "output_type": "execute_result"
    }
   ],
   "source": [
    "df_spec = df[['Salário Mensal', 'Idade', 'Raça Cor', 'Sexo', 'Grau Instrução']]\n",
    "df_spec"
   ]
  },
  {
   "cell_type": "code",
   "execution_count": 76,
   "metadata": {
    "colab": {
     "base_uri": "https://localhost:8080/",
     "height": 221
    },
    "colab_type": "code",
    "id": "dRR-TvOYy42R",
    "outputId": "45d1adba-0fc0-423e-e33b-912d181c0bed"
   },
   "outputs": [
    {
     "data": {
      "text/plain": [
       "0           955.0\n",
       "1          2501.0\n",
       "2             1.0\n",
       "3             1.0\n",
       "4             1.0\n",
       "            ...  \n",
       "2256747    5511.0\n",
       "2256748     955.0\n",
       "2256749    1001.0\n",
       "2256750    1366.0\n",
       "2256751     997.0\n",
       "Name: Salário Mensal, Length: 2256752, dtype: float64"
      ]
     },
     "execution_count": 76,
     "metadata": {
      "tags": []
     },
     "output_type": "execute_result"
    }
   ],
   "source": [
    "salario_mensal = df_spec['Salário Mensal']\n",
    "\n",
    "salario_mensal"
   ]
  },
  {
   "cell_type": "code",
   "execution_count": 75,
   "metadata": {
    "colab": {
     "base_uri": "https://localhost:8080/",
     "height": 34
    },
    "colab_type": "code",
    "id": "NWvYt0ZwfRu8",
    "outputId": "077bffbb-e1d3-4f61-ef15-c383473e7e72"
   },
   "outputs": [
    {
     "data": {
      "text/plain": [
       "(-2482.8195944054905, 5739.308040632634)"
      ]
     },
     "execution_count": 75,
     "metadata": {
      "tags": []
     },
     "output_type": "execute_result"
    }
   ],
   "source": [
    "salario_mensal_std = np.std(salario_mensal)\n",
    "salario_mensal_mean = np.mean(salario_mensal)\n",
    "salario_mensal_ic = scp.stats.norm.interval(0.95, loc=salario_mensal_mean, scale=salario_mensal_std)\n",
    "\n",
    "salario_mensal_ic"
   ]
  },
  {
   "cell_type": "code",
   "execution_count": 0,
   "metadata": {
    "colab": {},
    "colab_type": "code",
    "id": "Y67wNWurfxtW"
   },
   "outputs": [],
   "source": [
    "salario_mensal_log = np.log(df_spec['Salário Mensal']+1)\n"
   ]
  },
  {
   "cell_type": "code",
   "execution_count": 14,
   "metadata": {
    "colab": {
     "base_uri": "https://localhost:8080/",
     "height": 282
    },
    "colab_type": "code",
    "id": "HM97T9njgKzP",
    "outputId": "d0e60a4d-421d-4046-b7e4-373d41f0ef3a"
   },
   "outputs": [
    {
     "data": {
      "text/plain": [
       "<matplotlib.axes._subplots.AxesSubplot at 0x7fc7fac67518>"
      ]
     },
     "execution_count": 14,
     "metadata": {
      "tags": []
     },
     "output_type": "execute_result"
    },
    {
     "data": {
      "image/png": "[encoded data removed]",
      "text/plain": [
       "<Figure size 432x288 with 1 Axes>"
      ]
     },
     "metadata": {
      "tags": []
     },
     "output_type": "display_data"
    }
   ],
   "source": [
    "salario_mensal_log.plot.hist(bins=200)"
   ]
  },
  {
   "cell_type": "code",
   "execution_count": 15,
   "metadata": {
    "colab": {
     "base_uri": "https://localhost:8080/",
     "height": 34
    },
    "colab_type": "code",
    "id": "kIms36fQgQB9",
    "outputId": "e03d0f3a-2e47-4866-a697-4ad906707a48"
   },
   "outputs": [
    {
     "data": {
      "text/plain": [
       "(8.815784838915132, 5.521728944110491, 0.8235139737011601, 7.168756891512811)"
      ]
     },
     "execution_count": 15,
     "metadata": {
      "tags": []
     },
     "output_type": "execute_result"
    }
   ],
   "source": [
    "salario_log_std = np.std(salario_mensal_log)\n",
    "salario_log_mean = np.mean(salario_mensal_log)\n",
    "\n",
    "salario_ic_max = salario_log_mean + (salario_log_std*2)\n",
    "salario_ic_min = salario_log_mean - (salario_log_std*2)\n",
    "\n",
    "salario_ic_max, salario_ic_min, salario_log_std, salario_log_mean"
   ]
  },
  {
   "cell_type": "code",
   "execution_count": 16,
   "metadata": {
    "colab": {
     "base_uri": "https://localhost:8080/",
     "height": 34
    },
    "colab_type": "code",
    "id": "hn5ubNtPgmUM",
    "outputId": "67553309-7b5c-4263-b8b4-d0f3e596cbdc"
   },
   "outputs": [
    {
     "data": {
      "text/plain": [
       "(-2482.8195944054905, 5739.308040632634)"
      ]
     },
     "execution_count": 16,
     "metadata": {
      "tags": []
     },
     "output_type": "execute_result"
    }
   ],
   "source": [
    "salario_mensal_ic = scp.stats.norm.interval(0.95, loc=salario_mensal_mean, scale=salario_mensal_std)\n",
    "salario_mensal_ic"
   ]
  },
  {
   "cell_type": "code",
   "execution_count": 38,
   "metadata": {
    "colab": {
     "base_uri": "https://localhost:8080/",
     "height": 136
    },
    "colab_type": "code",
    "id": "I5jq9eLziEuX",
    "outputId": "528fdf73-6f5a-4e71-ee4e-568af27f8814"
   },
   "outputs": [
    {
     "data": {
      "text/plain": [
       "(0.030402100009216837,\n",
       " 0.1355047332007201,\n",
       " 0.019658783951448808,\n",
       " 0.1567455284340454,\n",
       " 0.8644952667992799,\n",
       " 0.9803412160485512,\n",
       " 0.02027519237782557)"
      ]
     },
     "execution_count": 38,
     "metadata": {
      "tags": []
     },
     "output_type": "execute_result"
    }
   ],
   "source": [
    "salarios_altos = []\n",
    "salarios_baixos = []\n",
    "\n",
    "for i in salario_mensal:\n",
    "  if i > 5738.30:\n",
    "    salarios_altos.append(i)\n",
    "\n",
    "  else:\n",
    "    if i != 1:\n",
    "      salarios_baixos.append(i)\n",
    "\n",
    "porc_salarios_altos = sum(salarios_altos) / sum(salario_mensal)\n",
    "porc_qtd_altos = len(salarios_altos) / len(salario_mensal)\n",
    "porc_altos_vs_baixos = sum(salarios_altos) / sum(salarios_baixos)\n",
    "porc_salarios_baixos = 1-porc_salarios_altos\n",
    "porc_altos_desempregados = len(salarios_altos) / len(salarios_baixos)\n",
    "porc_qtd_baixos = 1-porc_qtd_altos\n",
    "indice_desemprego = 1-(len(salarios_baixos) / len(salario_mensal))\n",
    "\n",
    "#Salários mais altos (além ) em relação ao dataset são 1,9% das pessoas que representam 13,5% do total de capital\n",
    "#O índice de desemprego é de apenas 3%\n",
    "indice_desemprego, porc_salarios_altos, porc_qtd_altos, porc_altos_vs_baixos, porc_salarios_baixos, porc_qtd_baixos, porc_altos_desempregados"
   ]
  },
  {
   "cell_type": "code",
   "execution_count": 39,
   "metadata": {
    "colab": {
     "base_uri": "https://localhost:8080/",
     "height": 51
    },
    "colab_type": "code",
    "id": "2Xir3TmskHsD",
    "outputId": "e02f466a-fc5a-4624-908f-38c55b35a6a5"
   },
   "outputs": [
    {
     "data": {
      "text/plain": [
       "((8.238732966961049, 10.09842484442348),\n",
       " (6.4441225288489985, 7.954191618982895))"
      ]
     },
     "execution_count": 39,
     "metadata": {
      "tags": []
     },
     "output_type": "execute_result"
    }
   ],
   "source": [
    "salarios_altos_log = np.log(salarios_altos)\n",
    "salarios_altos_std = np.std(salarios_altos_log)\n",
    "salarios_altos_mean = np.mean(salarios_altos_log)\n",
    "salarios_baixos_log = np.log(salarios_baixos)\n",
    "salarios_baixos_std = np.std(salarios_baixos_log)\n",
    "salarios_baixos_mean = np.mean(salarios_baixos_log)\n",
    "\n",
    "salarios_altos_ic = scp.stats.norm.interval(0.95, loc=salarios_altos_mean, scale=salarios_altos_std)\n",
    "salarios_baixos_ic = scp.stats.norm.interval(0.95, loc=salarios_baixos_mean, scale=salarios_baixos_std)\n",
    "salarios_altos_ic, salarios_baixos_ic"
   ]
  },
  {
   "cell_type": "code",
   "execution_count": 29,
   "metadata": {
    "colab": {
     "base_uri": "https://localhost:8080/",
     "height": 296
    },
    "colab_type": "code",
    "id": "hGhAJBWbkJUJ",
    "outputId": "efa3587d-4db5-4492-bc4e-f6c511521f84"
   },
   "outputs": [
    {
     "data": {
      "text/plain": [
       "<matplotlib.legend.Legend at 0x7fc7f5eb27f0>"
      ]
     },
     "execution_count": 29,
     "metadata": {
      "tags": []
     },
     "output_type": "execute_result"
    },
    {
     "data": {
      "image/png": "[encoded data removed]",
      "text/plain": [
       "<Figure size 432x288 with 1 Axes>"
      ]
     },
     "metadata": {
      "tags": []
     },
     "output_type": "display_data"
    }
   ],
   "source": [
    "sns.distplot(salario_mensal_log, label='Salário Geral')\n",
    "sns.distplot(salarios_altos_log, label='Salários Altos');\n",
    "\n",
    "plt.legend()"
   ]
  },
  {
   "cell_type": "code",
   "execution_count": 40,
   "metadata": {
    "colab": {
     "base_uri": "https://localhost:8080/",
     "height": 299
    },
    "colab_type": "code",
    "id": "nMSVLpMmYJ2F",
    "outputId": "c498250c-f128-4e41-c39d-3ef93fac9679"
   },
   "outputs": [
    {
     "data": {
      "text/plain": [
       "((8.238732966961049, 10.09842484442348),\n",
       " (6.4441225288489985, 7.954191618982895))"
      ]
     },
     "execution_count": 40,
     "metadata": {
      "tags": []
     },
     "output_type": "execute_result"
    },
    {
     "data": {
      "image/png": "[encoded data removed]",
      "text/plain": [
       "<Figure size 432x288 with 1 Axes>"
      ]
     },
     "metadata": {
      "tags": []
     },
     "output_type": "display_data"
    }
   ],
   "source": [
    "soma_altos = sum(salarios_altos)\n",
    "soma_baixos = sum(salarios_baixos)\n",
    "\n",
    "sns.distplot(salarios_altos_log, label='Salários Altos')\n",
    "sns.distplot(salarios_baixos_log, label='Salários Baixos');\n",
    "\n",
    "plt.legend(),\n",
    "#Intervalos de confiança para salários altos e baixos plotados\n",
    "#Salários altos e baixos não são estatisticamente semelhantes\n",
    "salarios_altos_ic, salarios_baixos_ic"
   ]
  },
  {
   "cell_type": "code",
   "execution_count": 58,
   "metadata": {
    "colab": {
     "base_uri": "https://localhost:8080/",
     "height": 221
    },
    "colab_type": "code",
    "id": "C4b2qnsXPdIX",
    "outputId": "82803afb-7d31-4877-f23b-178359fd9ab8"
   },
   "outputs": [
    {
     "data": {
      "text/plain": [
       "7          1062.0\n",
       "8             1.0\n",
       "9             1.0\n",
       "10            1.0\n",
       "22         1001.0\n",
       "            ...  \n",
       "2256746    5725.0\n",
       "2256747    5511.0\n",
       "2256748     955.0\n",
       "2256749    1001.0\n",
       "2256751     997.0\n",
       "Name: Salário Mensal, Length: 933625, dtype: float64"
      ]
     },
     "execution_count": 58,
     "metadata": {
      "tags": []
     },
     "output_type": "execute_result"
    }
   ],
   "source": [
    "df_mulheres = df_spec[(df_spec['Sexo'] == 2)]\n",
    "df_homens = df_spec[(df_spec['Sexo'] == 1)]\n",
    "porc_mulheres = len(df_mulheres) / len(df_spec['Sexo'])\n",
    "porc_homens = 1-porc_mulheres\n",
    "\n",
    "#Mulheres representam 41% da população\n",
    "df_mulheres['Salário Mensal']"
   ]
  },
  {
   "cell_type": "code",
   "execution_count": 0,
   "metadata": {
    "colab": {},
    "colab_type": "code",
    "id": "oiWoxi6-T-AN"
   },
   "outputs": [],
   "source": [
    "salario_mulheres = df_mulheres['Salário Mensal']\n",
    "salario_homens = df_homens['Salário Mensal']"
   ]
  },
  {
   "cell_type": "code",
   "execution_count": 84,
   "metadata": {
    "colab": {
     "base_uri": "https://localhost:8080/",
     "height": 34
    },
    "colab_type": "code",
    "id": "L2pV1mQcRTdQ",
    "outputId": "7c6bceb3-1c4a-4c25-c636-fb5ce016926b"
   },
   "outputs": [
    {
     "data": {
      "text/plain": [
       "(1628.2442231135722, 1522.3851289329227, 1702.9405272509744)"
      ]
     },
     "execution_count": 84,
     "metadata": {
      "tags": []
     },
     "output_type": "execute_result"
    }
   ],
   "source": [
    "salario_mulheres_mean = np.mean(salario_mulheres)\n",
    "salario_homens_mean = np.mean(salario_homens)\n",
    "salario_mensal_media = np.mean(salario_mensal)\n",
    "salario_mulheres_std = np.std(salario_mulheres)\n",
    "salario_homens_std = np.std(salario_homens)\n",
    "salario_mulheres_log = np.log(salario_mulheres)\n",
    "salario_homens_log = np.log(salario_homens)\n",
    "\n",
    "#Média salarial dos homens é maior que das mulheres\n",
    "salario_mensal_media, salario_mulheres_mean, salario_homens_mean"
   ]
  },
  {
   "cell_type": "code",
   "execution_count": 85,
   "metadata": {
    "colab": {
     "base_uri": "https://localhost:8080/",
     "height": 51
    },
    "colab_type": "code",
    "id": "H738GPZZTaaf",
    "outputId": "a2fee09e-c28a-4d03-8f5a-1f58ed9a9746"
   },
   "outputs": [
    {
     "data": {
      "text/plain": [
       "((-2513.648995255347, 5919.530049757295),\n",
       " (-2425.021501255505, 5469.79175912135))"
      ]
     },
     "execution_count": 85,
     "metadata": {
      "tags": []
     },
     "output_type": "execute_result"
    }
   ],
   "source": [
    "salario_mulheres_ic = scp.stats.norm.interval(0.95, loc=salario_mulheres_mean, scale=salario_mulheres_std)\n",
    "salario_homens_ic = scp.stats.norm.interval(0.95, loc=salario_homens_mean, scale=salario_homens_std)"
   ]
  },
  {
   "cell_type": "code",
   "execution_count": 89,
   "metadata": {
    "colab": {
     "base_uri": "https://localhost:8080/",
     "height": 313
    },
    "colab_type": "code",
    "id": "dqnIAPtlWglt",
    "outputId": "6fd63f03-b7a2-4836-c805-96029aff51b2"
   },
   "outputs": [
    {
     "data": {
      "text/plain": [
       "((-2513.648995255347, 5919.530049757295),\n",
       " (-2425.021501255505, 5469.79175912135))"
      ]
     },
     "execution_count": 89,
     "metadata": {
      "tags": []
     },
     "output_type": "execute_result"
    },
    {
     "data": {
      "image/png": "[encoded data removed]",
      "text/plain": [
       "<Figure size 432x288 with 1 Axes>"
      ]
     },
     "metadata": {
      "tags": []
     },
     "output_type": "display_data"
    }
   ],
   "source": [
    "sns.distplot(salario_mulheres_log, label='Salários Mulheres')\n",
    "sns.distplot(salario_homens_log, label='Salários Homens');\n",
    "\n",
    "plt.legend()\n",
    "salarios_homens_ic, salarios_mulheres_ic"
   ]
  },
  {
   "cell_type": "code",
   "execution_count": 125,
   "metadata": {
    "colab": {
     "base_uri": "https://localhost:8080/",
     "height": 34
    },
    "colab_type": "code",
    "id": "2eR0wYMeXCgB",
    "outputId": "b8054335-96ff-4c35-a2bf-b6309e1fa7bb"
   },
   "outputs": [
    {
     "data": {
      "text/plain": [
       "(27609, 17234)"
      ]
     },
     "execution_count": 125,
     "metadata": {
      "tags": []
     },
     "output_type": "execute_result"
    }
   ],
   "source": [
    "homens_ricos = []\n",
    "mulheres_ricas = []\n",
    "\n",
    "for i in salario_homens:\n",
    "  if i > 5919:\n",
    "    homens_ricos.append(i)\n",
    "\n",
    "for n in salario_mulheres:\n",
    "  if n > 5469:\n",
    "    mulheres_ricas.append(n)\n",
    "\n",
    "len(homens_ricos), len(mulheres_ricas)"
   ]
  },
  {
   "cell_type": "code",
   "execution_count": 97,
   "metadata": {
    "colab": {
     "base_uri": "https://localhost:8080/",
     "height": 34
    },
    "colab_type": "code",
    "id": "AyhsSy7kXk1A",
    "outputId": "d799e6a6-3155-4cd3-e11e-f1e5f2f6da7f"
   },
   "outputs": [
    {
     "data": {
      "text/plain": [
       "(0.018459231490159326, 0.020866477669944004)"
      ]
     },
     "execution_count": 97,
     "metadata": {
      "tags": []
     },
     "output_type": "execute_result"
    }
   ],
   "source": [
    "mulheres_mulheres_ricas = len(mulheres_ricas) / len(df_mulheres['Salário Mensal'])\n",
    "homens_homens_ricos = len(homens_ricos) / len(df_homens['Salário Mensal'])\n",
    "\n",
    "#A porcentagem de mulheres ricas dentre as mulheres é menor do que a de homens ricos dentre os homens\n",
    "mulheres_mulheres_ricas, homens_homens_ricos"
   ]
  },
  {
   "cell_type": "code",
   "execution_count": 98,
   "metadata": {
    "colab": {
     "base_uri": "https://localhost:8080/",
     "height": 34
    },
    "colab_type": "code",
    "id": "zyMVACLLYTh7",
    "outputId": "65100f49-867f-4f51-88a7-0b81b30fd631"
   },
   "outputs": [
    {
     "data": {
      "text/plain": [
       "(0.0122339539302502, 0.007636638850879494)"
      ]
     },
     "execution_count": 98,
     "metadata": {
      "tags": []
     },
     "output_type": "execute_result"
    }
   ],
   "source": [
    "all_mulheres_ricas = len(mulheres_ricas) / len(df_spec['Salário Mensal'])\n",
    "all_homens_ricos = len(homens_ricos) / len(df_spec['Salário Mensal'])\n",
    "\n",
    "all_homens_ricos, all_mulheres_ricas"
   ]
  },
  {
   "cell_type": "code",
   "execution_count": 100,
   "metadata": {
    "colab": {
     "base_uri": "https://localhost:8080/",
     "height": 34
    },
    "colab_type": "code",
    "id": "VnsWdV1zY0Eq",
    "outputId": "6c0d5dfc-ceeb-4676-af7c-274ad0ff344d"
   },
   "outputs": [
    {
     "data": {
      "text/plain": [
       "0.6242167409178166"
      ]
     },
     "execution_count": 100,
     "metadata": {
      "tags": []
     },
     "output_type": "execute_result"
    }
   ],
   "source": [
    "#O número de mulheres ricas em relação ao dataset inteiro é apenas 62% do número de homens ricos\n",
    "homens_mulheres_ricas = all_mulheres_ricas / all_homens_ricos\n",
    "homens_mulheres_ricas"
   ]
  },
  {
   "cell_type": "code",
   "execution_count": 127,
   "metadata": {
    "colab": {
     "base_uri": "https://localhost:8080/",
     "height": 282
    },
    "colab_type": "code",
    "id": "-H-Yh11FZAqP",
    "outputId": "8130f1f8-0982-4c6b-db9c-d006b3eafba1"
   },
   "outputs": [
    {
     "data": {
      "text/plain": [
       "<matplotlib.legend.Legend at 0x7fc7f48a52e8>"
      ]
     },
     "execution_count": 127,
     "metadata": {
      "tags": []
     },
     "output_type": "execute_result"
    },
    {
     "data": {
      "image/png": "[encoded data removed]",
      "text/plain": [
       "<Figure size 432x288 with 1 Axes>"
      ]
     },
     "metadata": {
      "tags": []
     },
     "output_type": "display_data"
    }
   ],
   "source": [
    "sns.distplot(homens_ricos, label='Qtd Homens')\n",
    "sns.distplot(mulheres_ricas, label='Qtd Mulheres');\n",
    "\n",
    "plt.legend()"
   ]
  },
  {
   "cell_type": "code",
   "execution_count": 120,
   "metadata": {
    "colab": {
     "base_uri": "https://localhost:8080/",
     "height": 286
    },
    "colab_type": "code",
    "id": "Myy00qqHZSii",
    "outputId": "263c2bdd-09a4-4152-a362-119c5103fd13"
   },
   "outputs": [
    {
     "data": {
      "text/plain": [
       "(0, 1e-05)"
      ]
     },
     "execution_count": 120,
     "metadata": {
      "tags": []
     },
     "output_type": "execute_result"
    },
    {
     "data": {
      "image/png": "[encoded data removed]",
      "text/plain": [
       "<Figure size 432x288 with 1 Axes>"
      ]
     },
     "metadata": {
      "tags": []
     },
     "output_type": "display_data"
    }
   ],
   "source": [
    "sns.distplot(mulheres_ricas, label='Salários Mulheres')\n",
    "sns.distplot(homens_ricos, label='Salários Homens');\n",
    "\n",
    "plt.legend()\n",
    "plt.xlim(120000, 140000)\n",
    "plt.ylim(0, 0.000010)\n",
    "\n",
    "#Pico próximo aos 130k, pode estar enviezando a amostra"
   ]
  },
  {
   "cell_type": "code",
   "execution_count": 137,
   "metadata": {
    "colab": {
     "base_uri": "https://localhost:8080/",
     "height": 34
    },
    "colab_type": "code",
    "id": "HLgiBS7hbvnX",
    "outputId": "a7e2ddfe-9875-4401-cd29-4c3e053335e2"
   },
   "outputs": [
    {
     "data": {
      "text/plain": [
       "(7.1654699577822685, 6.351144572166233, 6.851170007379454, 6.792771594555184)"
      ]
     },
     "execution_count": 137,
     "metadata": {
      "tags": []
     },
     "output_type": "execute_result"
    }
   ],
   "source": [
    "salariom_mulheres_ricas = np.mean(mulheres_ricas) / np.mean(df_mulheres['Salário Mensal'])\n",
    "salarioh_homens_ricos = np.mean(homens_ricos) / np.mean(df_homens['Salário Mensal'])\n",
    "salarioall_homens_ricos = np.mean(homens_ricos) / np.mean(df_spec['Salário Mensal'])\n",
    "salarioall_mulheres_ricas = np.mean(mulheres_ricas) / np.mean(df_spec['Salário Mensal'])\n",
    "\n",
    "#Homens ricos ganham em média 6.8x o salário dos homens e 7.2x o salário da população\n",
    "#Mulheres ricas ganham em média 6.8x o salário das mulheres e 6.3x o salário da população\n",
    "salarioall_homens_ricos, salarioall_mulheres_ricas, salarioh_homens_ricos, salariom_mulheres_ricas"
   ]
  },
  {
   "cell_type": "code",
   "execution_count": 160,
   "metadata": {
    "colab": {
     "base_uri": "https://localhost:8080/",
     "height": 34
    },
    "colab_type": "code",
    "id": "YY8DX6Vsh06w",
    "outputId": "afd63f62-1fc6-401f-d887-39b5bb4005b3"
   },
   "outputs": [
    {
     "data": {
      "text/plain": [
       "array([8, 2, 1, 9, 4, 6])"
      ]
     },
     "execution_count": 160,
     "metadata": {
      "tags": []
     },
     "output_type": "execute_result"
    }
   ],
   "source": [
    "color_array = df_spec['Raça Cor'].unique()\n",
    "color_array"
   ]
  },
  {
   "cell_type": "code",
   "execution_count": 0,
   "metadata": {
    "colab": {},
    "colab_type": "code",
    "id": "lZ2IrrHrkSi6"
   },
   "outputs": [],
   "source": [
    "df_rc1 = df_spec[(df_spec['Raça Cor'] == 1)]\n",
    "df_rc2 = df_spec[(df_spec['Raça Cor'] == 2)]\n",
    "df_rc3 = df_spec[(df_spec['Raça Cor'] == 4)]\n",
    "df_rc4 = df_spec[(df_spec['Raça Cor'] == 6)]\n",
    "df_rc5 = df_spec[(df_spec['Raça Cor'] == 8)]\n",
    "df_rc6 = df_spec[(df_spec['Raça Cor'] == 9)]"
   ]
  },
  {
   "cell_type": "code",
   "execution_count": 0,
   "metadata": {
    "colab": {},
    "colab_type": "code",
    "id": "-xemKmeFl5Oa"
   },
   "outputs": [],
   "source": [
    "salario_rc1 = df_rc1['Salário Mensal']\n",
    "salario_rc2 = df_rc2['Salário Mensal']\n",
    "salario_rc3 = df_rc3['Salário Mensal']\n",
    "salario_rc4 = df_rc4['Salário Mensal']\n",
    "salario_rc5 = df_rc5['Salário Mensal']\n",
    "salario_rc6 = df_rc6['Salário Mensal']"
   ]
  },
  {
   "cell_type": "code",
   "execution_count": 192,
   "metadata": {
    "colab": {
     "base_uri": "https://localhost:8080/",
     "height": 34
    },
    "colab_type": "code",
    "id": "X_Aci0c6mvJ-",
    "outputId": "1bf40d13-61aa-4381-e406-19972fcac5ea"
   },
   "outputs": [
    {
     "data": {
      "text/plain": [
       "1825.9111422037026"
      ]
     },
     "execution_count": 192,
     "metadata": {
      "tags": []
     },
     "output_type": "execute_result"
    }
   ],
   "source": [
    "salario_rc1_mean = np.mean(salario_rc1)\n",
    "salario_rc2_mean = np.mean(salario_rc2)\n",
    "salario_rc3_mean = np.mean(salario_rc3)\n",
    "salario_rc4_mean = np.mean(salario_rc4)\n",
    "salario_rc5_mean = np.mean(salario_rc5)\n",
    "salario_rc6_mean = np.mean(salario_rc6)\n",
    "\n",
    "salario_rc2_mean"
   ]
  },
  {
   "cell_type": "code",
   "execution_count": 0,
   "metadata": {
    "colab": {},
    "colab_type": "code",
    "id": "3PRlpuSzohRP"
   },
   "outputs": [],
   "source": [
    "lista_salariosrc_mean = [salario_rc1_mean, salario_rc2_mean, \n",
    "                            salario_rc3_mean, salario_rc4_mean, salario_rc5_mean, salario_rc6_mean]"
   ]
  },
  {
   "cell_type": "code",
   "execution_count": 194,
   "metadata": {
    "colab": {
     "base_uri": "https://localhost:8080/",
     "height": 119
    },
    "colab_type": "code",
    "id": "XSmWIEm0paB7",
    "outputId": "c08de941-6a5e-4048-c7e6-d9e9fdcaa518"
   },
   "outputs": [
    {
     "data": {
      "text/plain": [
       "[1768.2401253918495,\n",
       " 1825.9111422037026,\n",
       " 1452.7972360229858,\n",
       " 2112.330215239306,\n",
       " 1460.304827614948,\n",
       " 1498.2058303944511]"
      ]
     },
     "execution_count": 194,
     "metadata": {
      "tags": []
     },
     "output_type": "execute_result"
    }
   ],
   "source": [
    "#Cor de número 4 tem a maior média salarial\n",
    "lista_salariosrc_mean"
   ]
  },
  {
   "cell_type": "code",
   "execution_count": 195,
   "metadata": {
    "colab": {
     "base_uri": "https://localhost:8080/",
     "height": 299
    },
    "colab_type": "code",
    "id": "xKz5cdAgpeXN",
    "outputId": "9718b3be-b79b-442a-e791-0648329b9287"
   },
   "outputs": [
    {
     "name": "stderr",
     "output_type": "stream",
     "text": [
      "No handles with labels found to put in legend.\n"
     ]
    },
    {
     "data": {
      "text/plain": [
       "<matplotlib.legend.Legend at 0x7fc7f28d17b8>"
      ]
     },
     "execution_count": 195,
     "metadata": {
      "tags": []
     },
     "output_type": "execute_result"
    },
    {
     "data": {
      "image/png": "[encoded data removed]",
      "text/plain": [
       "<Figure size 432x288 with 1 Axes>"
      ]
     },
     "metadata": {
      "tags": []
     },
     "output_type": "display_data"
    }
   ],
   "source": [
    "sns.distplot(lista_salariosrc_mean, bins=6)\n",
    "plt.legend()"
   ]
  },
  {
   "cell_type": "code",
   "execution_count": 199,
   "metadata": {
    "colab": {
     "base_uri": "https://localhost:8080/",
     "height": 296
    },
    "colab_type": "code",
    "id": "Onom7aNNprdW",
    "outputId": "778c8eea-7051-4ef6-d78a-1c57fd2db4f0"
   },
   "outputs": [
    {
     "data": {
      "text/plain": [
       "<matplotlib.legend.Legend at 0x7fc7f2670588>"
      ]
     },
     "execution_count": 199,
     "metadata": {
      "tags": []
     },
     "output_type": "execute_result"
    },
    {
     "data": {
      "image/png": "[encoded data removed]",
      "text/plain": [
       "<Figure size 432x288 with 1 Axes>"
      ]
     },
     "metadata": {
      "tags": []
     },
     "output_type": "display_data"
    }
   ],
   "source": [
    "sns.distplot(salario_rc1, label='RaçaCor 1')\n",
    "sns.distplot(salario_rc2, label='RaçaCor 2')\n",
    "sns.distplot(salario_rc3, label='RaçaCor 3')\n",
    "sns.distplot(salario_rc4, label='RaçaCor 4')\n",
    "sns.distplot(salario_rc5, label='RaçaCor 5')\n",
    "sns.distplot(salario_rc6, label='RaçaCor 6')\n",
    "\n",
    "plt.legend()"
   ]
  },
  {
   "cell_type": "code",
   "execution_count": 205,
   "metadata": {
    "colab": {
     "base_uri": "https://localhost:8080/",
     "height": 296
    },
    "colab_type": "code",
    "id": "h-vO2ztCrAij",
    "outputId": "73372cdd-63a6-4efb-a652-e7d7ad40e64a"
   },
   "outputs": [
    {
     "data": {
      "text/plain": [
       "<matplotlib.legend.Legend at 0x7fc7f14d3cc0>"
      ]
     },
     "execution_count": 205,
     "metadata": {
      "tags": []
     },
     "output_type": "execute_result"
    },
    {
     "data": {
      "image/png": "[encoded data removed]",
      "text/plain": [
       "<Figure size 432x288 with 1 Axes>"
      ]
     },
     "metadata": {
      "tags": []
     },
     "output_type": "display_data"
    }
   ],
   "source": [
    "sns.distplot(salario_rc1, label='RaçaCor 1')\n",
    "sns.distplot(salario_rc2, label='RaçaCor 2')\n",
    "sns.distplot(salario_rc3, label='RaçaCor 3')\n",
    "sns.distplot(salario_rc4, label='RaçaCor 4')\n",
    "sns.distplot(salario_rc5, label='RaçaCor 5')\n",
    "sns.distplot(salario_rc6, label='RaçaCor 6')\n",
    "\n",
    "plt.xlim(0, 10000)\n",
    "plt.legend()"
   ]
  },
  {
   "cell_type": "code",
   "execution_count": 0,
   "metadata": {
    "colab": {},
    "colab_type": "code",
    "id": "W3lXQPfQtnZQ"
   },
   "outputs": [],
   "source": []
  }
 ],
 "metadata": {
  "colab": {
   "collapsed_sections": [],
   "name": "DHDS01.ipynb",
   "provenance": []
  },
  "kernelspec": {
   "display_name": "Python 3",
   "language": "python",
   "name": "python3"
  },
  "language_info": {
   "codemirror_mode": {
    "name": "ipython",
    "version": 3
   },
   "file_extension": ".py",
   "mimetype": "text/x-python",
   "name": "python",
   "nbconvert_exporter": "python",
   "pygments_lexer": "ipython3",
   "version": "3.7.4"
  }
 },
 "nbformat": 4,
 "nbformat_minor": 1
}
